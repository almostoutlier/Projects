{
 "cells": [
  {
   "cell_type": "markdown",
   "id": "0f4f8077",
   "metadata": {},
   "source": [
    "# Libraries & Dependencies"
   ]
  },
  {
   "cell_type": "code",
   "execution_count": 33,
   "id": "476d00f2",
   "metadata": {
    "ExecuteTime": {
     "end_time": "2023-09-16T10:14:00.049131Z",
     "start_time": "2023-09-16T10:14:00.035607Z"
    }
   },
   "outputs": [],
   "source": [
    "import matplotlib.pyplot as plt\n",
    "import numpy as np\n",
    "import pandas as pd\n",
    "import math\n",
    "from scipy.special import binom\n",
    "from scipy.stats import chi2_contingency, mannwhitneyu, norm, t, ttest_ind,norm,hypergeom"
   ]
  },
  {
   "cell_type": "markdown",
   "id": "e1135ca5",
   "metadata": {},
   "source": [
    "# Data"
   ]
  },
  {
   "cell_type": "code",
   "execution_count": 14,
   "id": "78d4581b",
   "metadata": {
    "ExecuteTime": {
     "end_time": "2023-09-16T09:55:35.342896Z",
     "start_time": "2023-09-16T09:55:35.315503Z"
    }
   },
   "outputs": [
    {
     "data": {
      "text/html": [
       "<div>\n",
       "<style scoped>\n",
       "    .dataframe tbody tr th:only-of-type {\n",
       "        vertical-align: middle;\n",
       "    }\n",
       "\n",
       "    .dataframe tbody tr th {\n",
       "        vertical-align: top;\n",
       "    }\n",
       "\n",
       "    .dataframe thead th {\n",
       "        text-align: right;\n",
       "    }\n",
       "</style>\n",
       "<table border=\"1\" class=\"dataframe\">\n",
       "  <thead>\n",
       "    <tr style=\"text-align: right;\">\n",
       "      <th></th>\n",
       "      <th>User Pseudo Id (index)</th>\n",
       "      <th>Test Group</th>\n",
       "      <th>Retention D7</th>\n",
       "    </tr>\n",
       "  </thead>\n",
       "  <tbody>\n",
       "    <tr>\n",
       "      <th>0</th>\n",
       "      <td>1</td>\n",
       "      <td>1</td>\n",
       "      <td>0.0</td>\n",
       "    </tr>\n",
       "    <tr>\n",
       "      <th>1</th>\n",
       "      <td>2</td>\n",
       "      <td>1</td>\n",
       "      <td>0.0</td>\n",
       "    </tr>\n",
       "    <tr>\n",
       "      <th>2</th>\n",
       "      <td>3</td>\n",
       "      <td>1</td>\n",
       "      <td>0.0</td>\n",
       "    </tr>\n",
       "    <tr>\n",
       "      <th>3</th>\n",
       "      <td>4</td>\n",
       "      <td>1</td>\n",
       "      <td>0.0</td>\n",
       "    </tr>\n",
       "    <tr>\n",
       "      <th>4</th>\n",
       "      <td>5</td>\n",
       "      <td>1</td>\n",
       "      <td>0.0</td>\n",
       "    </tr>\n",
       "    <tr>\n",
       "      <th>...</th>\n",
       "      <td>...</td>\n",
       "      <td>...</td>\n",
       "      <td>...</td>\n",
       "    </tr>\n",
       "    <tr>\n",
       "      <th>57280</th>\n",
       "      <td>57281</td>\n",
       "      <td>0</td>\n",
       "      <td>0.0</td>\n",
       "    </tr>\n",
       "    <tr>\n",
       "      <th>57281</th>\n",
       "      <td>57282</td>\n",
       "      <td>1</td>\n",
       "      <td>0.0</td>\n",
       "    </tr>\n",
       "    <tr>\n",
       "      <th>57282</th>\n",
       "      <td>57283</td>\n",
       "      <td>1</td>\n",
       "      <td>0.0</td>\n",
       "    </tr>\n",
       "    <tr>\n",
       "      <th>57283</th>\n",
       "      <td>57284</td>\n",
       "      <td>0</td>\n",
       "      <td>0.0</td>\n",
       "    </tr>\n",
       "    <tr>\n",
       "      <th>57284</th>\n",
       "      <td>57285</td>\n",
       "      <td>1</td>\n",
       "      <td>0.0</td>\n",
       "    </tr>\n",
       "  </tbody>\n",
       "</table>\n",
       "<p>57285 rows × 3 columns</p>\n",
       "</div>"
      ],
      "text/plain": [
       "       User Pseudo Id (index)  Test Group  Retention D7\n",
       "0                           1           1           0.0\n",
       "1                           2           1           0.0\n",
       "2                           3           1           0.0\n",
       "3                           4           1           0.0\n",
       "4                           5           1           0.0\n",
       "...                       ...         ...           ...\n",
       "57280                   57281           0           0.0\n",
       "57281                   57282           1           0.0\n",
       "57282                   57283           1           0.0\n",
       "57283                   57284           0           0.0\n",
       "57284                   57285           1           0.0\n",
       "\n",
       "[57285 rows x 3 columns]"
      ]
     },
     "execution_count": 14,
     "metadata": {},
     "output_type": "execute_result"
    }
   ],
   "source": [
    "raw_data = pd.read_csv('D7 Retention Data.csv')\n",
    "df = raw_data.fillna(0)\n",
    "df"
   ]
  },
  {
   "cell_type": "markdown",
   "id": "f1735ab8",
   "metadata": {},
   "source": [
    "## AB Retention Rates"
   ]
  },
  {
   "cell_type": "code",
   "execution_count": 15,
   "id": "4a760c6e",
   "metadata": {
    "ExecuteTime": {
     "end_time": "2023-09-16T09:55:36.016957Z",
     "start_time": "2023-09-16T09:55:36.002439Z"
    }
   },
   "outputs": [
    {
     "data": {
      "text/html": [
       "<div>\n",
       "<style scoped>\n",
       "    .dataframe tbody tr th:only-of-type {\n",
       "        vertical-align: middle;\n",
       "    }\n",
       "\n",
       "    .dataframe tbody tr th {\n",
       "        vertical-align: top;\n",
       "    }\n",
       "\n",
       "    .dataframe thead th {\n",
       "        text-align: right;\n",
       "    }\n",
       "</style>\n",
       "<table border=\"1\" class=\"dataframe\">\n",
       "  <thead>\n",
       "    <tr style=\"text-align: right;\">\n",
       "      <th></th>\n",
       "      <th>Test Group</th>\n",
       "      <th>Retained_Users</th>\n",
       "      <th>Users</th>\n",
       "      <th>D7</th>\n",
       "    </tr>\n",
       "  </thead>\n",
       "  <tbody>\n",
       "    <tr>\n",
       "      <th>0</th>\n",
       "      <td>0</td>\n",
       "      <td>1291.0</td>\n",
       "      <td>28710</td>\n",
       "      <td>0.044967</td>\n",
       "    </tr>\n",
       "    <tr>\n",
       "      <th>1</th>\n",
       "      <td>1</td>\n",
       "      <td>1420.0</td>\n",
       "      <td>28575</td>\n",
       "      <td>0.049694</td>\n",
       "    </tr>\n",
       "  </tbody>\n",
       "</table>\n",
       "</div>"
      ],
      "text/plain": [
       "   Test Group  Retained_Users  Users        D7\n",
       "0           0          1291.0  28710  0.044967\n",
       "1           1          1420.0  28575  0.049694"
      ]
     },
     "execution_count": 15,
     "metadata": {},
     "output_type": "execute_result"
    }
   ],
   "source": [
    "retention_df = df.groupby(['Test Group'], as_index=False).agg(\n",
    "                                                Retained_Users = ('Retention D7', 'sum'),\n",
    "                                                Users = ('Retention D7', 'count') \n",
    "                                              )\n",
    "\n",
    "retention_df['D7'] = retention_df['Retained_Users'] / retention_df['Users']\n",
    "retention_df"
   ]
  },
  {
   "cell_type": "markdown",
   "id": "7a396b96",
   "metadata": {},
   "source": [
    "## Sample Size "
   ]
  },
  {
   "cell_type": "code",
   "execution_count": 19,
   "id": "502ba151",
   "metadata": {
    "ExecuteTime": {
     "end_time": "2023-09-16T09:56:39.223766Z",
     "start_time": "2023-09-16T09:56:39.211740Z"
    }
   },
   "outputs": [
    {
     "name": "stdout",
     "output_type": "stream",
     "text": [
      "Required sample size per group: 31677\n"
     ]
    }
   ],
   "source": [
    "def required_sample_size_ztest(alpha=0.05, power=0.8, prop0=0.5, prop1=0.6):\n",
    "    \"\"\"\n",
    "    Calculate the required sample size for a two-proportions z-test.\n",
    "\n",
    "    Parameters:\n",
    "    - alpha: significance level\n",
    "    - power: desired power of the test\n",
    "    - prop0: proportion in base \n",
    "    - prop1: proportion in variant \n",
    "\n",
    "    Returns:\n",
    "    - Sample size required for each group.\n",
    "    \"\"\"\n",
    "    pooled_prop = (prop0 + prop1) / 2\n",
    "    pooled_se = math.sqrt(2 * pooled_prop * (1 - pooled_prop))  # Pooled standard error for equal sample sizes\n",
    "\n",
    "    # Z-scores for alpha and power\n",
    "    z_alpha = norm.ppf(1 - alpha / 2)\n",
    "    z_power = norm.ppf(power)\n",
    "\n",
    "    effect_size = abs(prop0 - prop1)\n",
    "    \n",
    "    # Calculating required sample size for each group\n",
    "    n = ((z_alpha + z_power) * pooled_se / effect_size) ** 2\n",
    "\n",
    "    return n\n",
    "\n",
    "# Example usage:\n",
    "alpha = 0.05\n",
    "power = 0.8\n",
    "prop0 = 0.044967\n",
    "prop1 = 0.049694\n",
    "\n",
    "sample_size = required_sample_size_ztest(alpha, power, prop0, prop1)\n",
    "print(f\"Required sample size per group: {sample_size:.0f}\")"
   ]
  },
  {
   "cell_type": "markdown",
   "id": "30a54b45",
   "metadata": {},
   "source": [
    "## Contingency  table"
   ]
  },
  {
   "cell_type": "code",
   "execution_count": 24,
   "id": "8691596d",
   "metadata": {
    "ExecuteTime": {
     "end_time": "2023-09-16T09:58:51.237077Z",
     "start_time": "2023-09-16T09:58:51.227549Z"
    }
   },
   "outputs": [
    {
     "data": {
      "text/html": [
       "<div>\n",
       "<style scoped>\n",
       "    .dataframe tbody tr th:only-of-type {\n",
       "        vertical-align: middle;\n",
       "    }\n",
       "\n",
       "    .dataframe tbody tr th {\n",
       "        vertical-align: top;\n",
       "    }\n",
       "\n",
       "    .dataframe thead th {\n",
       "        text-align: right;\n",
       "    }\n",
       "</style>\n",
       "<table border=\"1\" class=\"dataframe\">\n",
       "  <thead>\n",
       "    <tr style=\"text-align: right;\">\n",
       "      <th></th>\n",
       "      <th>Test Group</th>\n",
       "      <th>Retained_Users</th>\n",
       "      <th>Users</th>\n",
       "      <th>Non_Retained_Users</th>\n",
       "      <th>D7</th>\n",
       "    </tr>\n",
       "  </thead>\n",
       "  <tbody>\n",
       "    <tr>\n",
       "      <th>0</th>\n",
       "      <td>0</td>\n",
       "      <td>1291.0</td>\n",
       "      <td>28710</td>\n",
       "      <td>27419.0</td>\n",
       "      <td>0.044967</td>\n",
       "    </tr>\n",
       "    <tr>\n",
       "      <th>1</th>\n",
       "      <td>1</td>\n",
       "      <td>1420.0</td>\n",
       "      <td>28575</td>\n",
       "      <td>27155.0</td>\n",
       "      <td>0.049694</td>\n",
       "    </tr>\n",
       "  </tbody>\n",
       "</table>\n",
       "</div>"
      ],
      "text/plain": [
       "   Test Group  Retained_Users  Users  Non_Retained_Users        D7\n",
       "0           0          1291.0  28710             27419.0  0.044967\n",
       "1           1          1420.0  28575             27155.0  0.049694"
      ]
     },
     "execution_count": 24,
     "metadata": {},
     "output_type": "execute_result"
    }
   ],
   "source": [
    "retention_df['Non_Retained_Users'] = retention_df['Users'] - retention_df['Retained_Users']\n",
    "retention_df"
   ]
  },
  {
   "cell_type": "code",
   "execution_count": 58,
   "id": "6375cd6f",
   "metadata": {
    "ExecuteTime": {
     "end_time": "2023-09-16T10:34:14.419039Z",
     "start_time": "2023-09-16T10:34:14.402942Z"
    }
   },
   "outputs": [
    {
     "data": {
      "text/html": [
       "<div>\n",
       "<style scoped>\n",
       "    .dataframe tbody tr th:only-of-type {\n",
       "        vertical-align: middle;\n",
       "    }\n",
       "\n",
       "    .dataframe tbody tr th {\n",
       "        vertical-align: top;\n",
       "    }\n",
       "\n",
       "    .dataframe thead th {\n",
       "        text-align: right;\n",
       "    }\n",
       "</style>\n",
       "<table border=\"1\" class=\"dataframe\">\n",
       "  <thead>\n",
       "    <tr style=\"text-align: right;\">\n",
       "      <th>Test Group</th>\n",
       "      <th>0</th>\n",
       "      <th>1</th>\n",
       "    </tr>\n",
       "  </thead>\n",
       "  <tbody>\n",
       "    <tr>\n",
       "      <th>Non_Retained_Users</th>\n",
       "      <td>27419.0</td>\n",
       "      <td>27155.0</td>\n",
       "    </tr>\n",
       "    <tr>\n",
       "      <th>Retained_Users</th>\n",
       "      <td>1291.0</td>\n",
       "      <td>1420.0</td>\n",
       "    </tr>\n",
       "  </tbody>\n",
       "</table>\n",
       "</div>"
      ],
      "text/plain": [
       "Test Group                0        1\n",
       "Non_Retained_Users  27419.0  27155.0\n",
       "Retained_Users       1291.0   1420.0"
      ]
     },
     "execution_count": 58,
     "metadata": {},
     "output_type": "execute_result"
    }
   ],
   "source": [
    "# Creating a D7 contingency table\n",
    "contingency_table = retention_df.pivot_table(values=['Retained_Users', 'Non_Retained_Users'], \n",
    "                                             index='Test Group', \n",
    "                                             aggfunc='sum').T\n",
    "\n",
    "contingency_table"
   ]
  },
  {
   "cell_type": "markdown",
   "id": "d0072107",
   "metadata": {},
   "source": [
    "# Fisher's exact test - Sample Size is small"
   ]
  },
  {
   "cell_type": "markdown",
   "id": "f2724abe",
   "metadata": {},
   "source": [
    "Fisher's Exact Test: \n",
    "\n",
    "It is based on the hypergeometric distribution. \n",
    "\n",
    "The test calculates the exact probability of observing the given distribution of frequencies, given the marginal totals of the table."
   ]
  },
  {
   "cell_type": "code",
   "execution_count": 61,
   "id": "3650ce14",
   "metadata": {
    "ExecuteTime": {
     "end_time": "2023-09-16T10:34:55.008662Z",
     "start_time": "2023-09-16T10:34:54.995776Z"
    }
   },
   "outputs": [
    {
     "name": "stdout",
     "output_type": "stream",
     "text": [
      "Fisher's exact test: p-val = 0.4%\n"
     ]
    }
   ],
   "source": [
    "def fisher_exact_test(contingency_input):\n",
    "    \"\"\"\n",
    "    Compute the p-value for the given contingency table using Fisher's exact test.\n",
    "\n",
    "    Parameters:\n",
    "    - contingency_input: 2x2 Pandas DataFrame or numpy array\n",
    "    \n",
    "    Returns:\n",
    "    - p-value\n",
    "    \"\"\"\n",
    "    \n",
    "    # Convert DataFrame to numpy array if necessary\n",
    "    contingency_table = np.array(contingency_input) if isinstance(contingency_input, pd.DataFrame) else contingency_input\n",
    "    \n",
    "    # Extract individual cell counts\n",
    "    a, b, c, d = contingency_table.flatten()\n",
    "\n",
    "    # Calculate parameters for the hypergeometric distribution\n",
    "    M = a + b + c + d  # Total number of items\n",
    "    n = a + b          # Total successes in the population\n",
    "    N = a + c          # Total draws\n",
    "\n",
    "    # Calculate the probability of getting a success\n",
    "    p_value = hypergeom.sf(a-1, M, n, N)\n",
    "    \n",
    "    return p_value\n",
    "\n",
    "# Example usage:\n",
    "\n",
    "p_val = fisher_exact_test(contingency_table)\n",
    "print(f\"Fisher's exact test: p-val = {100*p_val:.1f}%\")\n"
   ]
  },
  {
   "cell_type": "markdown",
   "id": "f976fb9a",
   "metadata": {},
   "source": [
    "# Pearson's chi-squared test - Sample size is large"
   ]
  },
  {
   "cell_type": "markdown",
   "id": "b3d20647",
   "metadata": {},
   "source": [
    "Pearson's Chi-Squared Test: \n",
    "\n",
    "It uses the chi-squared distribution to approximate the distribution of the test statistic under the null hypothesis. \n",
    "\n",
    "The test determines how much the observed frequencies deviate from frequencies that would be expected under the null hypothesis of no association."
   ]
  },
  {
   "cell_type": "code",
   "execution_count": 64,
   "id": "c1f407ff",
   "metadata": {
    "ExecuteTime": {
     "end_time": "2023-09-16T10:43:41.611210Z",
     "start_time": "2023-09-16T10:43:41.601697Z"
    }
   },
   "outputs": [
    {
     "name": "stdout",
     "output_type": "stream",
     "text": [
      "Pearson's chi-squared test: p-val = 0.0082\n"
     ]
    }
   ],
   "source": [
    "import numpy as np\n",
    "import pandas as pd\n",
    "from scipy.stats import chi2_contingency\n",
    "\n",
    "def chi_squared_test(contingency_input):\n",
    "    \"\"\"\n",
    "    Compute the chi-squared statistic and p-value for the given contingency table using Pearson's chi-squared test.\n",
    "\n",
    "    Parameters:\n",
    "    - contingency_input: 2x2 Pandas DataFrame or numpy array\n",
    "    \n",
    "    Returns:\n",
    "    - chi2_statistic, p-value\n",
    "    \"\"\"\n",
    "    \n",
    "    # Convert DataFrame to numpy array if necessary\n",
    "    contingency_table = np.array(contingency_input) if isinstance(contingency_input, pd.DataFrame) else contingency_input\n",
    "    \n",
    "    # Compute chi-squared statistic and p-value\n",
    "    chi2_statistic, p_value, _, _ = chi2_contingency(contingency_table)\n",
    "    \n",
    "    return chi2_statistic, p_value\n",
    "\n",
    "# Example usage:\n",
    "\n",
    "chi2_stat, p_val = chi_squared_test(contingency_table)\n",
    "print(f\"Pearson's chi-squared test: p-val = {p_val:.4f}\")\n"
   ]
  },
  {
   "cell_type": "markdown",
   "id": "e8852536",
   "metadata": {},
   "source": [
    "# Conclusions"
   ]
  },
  {
   "cell_type": "markdown",
   "id": "0fd0e5aa",
   "metadata": {},
   "source": [
    "While both tests examine the independence of two categorical variables, they do so using different probability models:\n",
    "\n",
    "Fisher's exact test directly calculates the probability of obtaining the observed distribution of frequencies (and more extreme distributions), given the fixed marginal totals, using the hypergeometric distribution.\n",
    "\n",
    "Pearson's chi-squared test looks at the divergence of the observed frequencies from expected frequencies under the null hypothesis of no association, using the chi-squared distribution as an approximation.\n",
    "\n",
    "For many practical applications, especially with large samples, the two tests will often lead to similar conclusions. However, their differences become more noticeable with smaller samples or when expected cell counts are low."
   ]
  }
 ],
 "metadata": {
  "kernelspec": {
   "display_name": "Python 3 (ipykernel)",
   "language": "python",
   "name": "python3"
  },
  "language_info": {
   "codemirror_mode": {
    "name": "ipython",
    "version": 3
   },
   "file_extension": ".py",
   "mimetype": "text/x-python",
   "name": "python",
   "nbconvert_exporter": "python",
   "pygments_lexer": "ipython3",
   "version": "3.9.17"
  },
  "toc": {
   "base_numbering": 1,
   "nav_menu": {},
   "number_sections": true,
   "sideBar": true,
   "skip_h1_title": false,
   "title_cell": "Table of Contents",
   "title_sidebar": "Contents",
   "toc_cell": false,
   "toc_position": {},
   "toc_section_display": true,
   "toc_window_display": false
  }
 },
 "nbformat": 4,
 "nbformat_minor": 5
}
