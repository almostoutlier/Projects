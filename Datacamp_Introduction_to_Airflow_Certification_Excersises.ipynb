{
  "nbformat": 4,
  "nbformat_minor": 0,
  "metadata": {
    "colab": {
      "provenance": [],
      "include_colab_link": true
    },
    "kernelspec": {
      "name": "python3",
      "display_name": "Python 3"
    },
    "language_info": {
      "name": "python"
    }
  },
  "cells": [
    {
      "cell_type": "markdown",
      "metadata": {
        "id": "view-in-github",
        "colab_type": "text"
      },
      "source": [
        "<a href=\"https://colab.research.google.com/github/almostoutlier/Projects/blob/main/Datacamp_Introduction_to_Airflow_Certification_Excersises.ipynb\" target=\"_parent\"><img src=\"https://colab.research.google.com/assets/colab-badge.svg\" alt=\"Open In Colab\"/></a>"
      ]
    },
    {
      "cell_type": "markdown",
      "source": [
        "# 1. Introduction to Airflow in Python\n",
        "\n",
        "\n"
      ],
      "metadata": {
        "id": "IA2yguGRMy3Z"
      }
    },
    {
      "cell_type": "markdown",
      "source": [
        "\n",
        "1.   Testing a task in Airflow\n",
        "\n",
        "You've just started looking at using Airflow within your company and would like to try to test run a task within the Airflow platform. You remember that you can use the airflow run command to execute a specific task within a workflow.\n",
        "\n",
        "An Airflow DAG is set up for you with a dag_id of etl_pipeline. The task_id is download_file and the start_date is 2023-01-08. All other components needed are defined for you.\n",
        "\n",
        "* airflow tasks test dag task 2023-01-08\n",
        "\n",
        "* airflow tasks test etl_pipeline task 2023-01-08\n",
        "\n",
        "* *airflow tasks test etl_pipeline download_file 2023-01-08*\n",
        "\n",
        "Which command would you enter in the console to run the desired task?\n",
        "\n",
        "2.  Examining Airflow commands\n",
        "While researching how to use Airflow, you start to wonder about the airflow command in general. You realize that by simply running airflow you can get further information about various sub-commands that are available.\n",
        "\n",
        "Which of the following is NOT an Airflow sub-command?\n",
        "* dags\n",
        "\n",
        "* *edit_dag*\n",
        "\n",
        "* tasks\n",
        "\n",
        "* scheduler"
      ],
      "metadata": {
        "id": "tNI2XzhC_mt-"
      }
    },
    {
      "cell_type": "markdown",
      "source": [
        "3. Defining a simple DAG"
      ],
      "metadata": {
        "id": "fn70MKyjOZ2L"
      }
    },
    {
      "cell_type": "code",
      "source": [
        "pip install apache-airflow"
      ],
      "metadata": {
        "id": "aID6vvBkQJVY"
      },
      "execution_count": null,
      "outputs": []
    },
    {
      "cell_type": "code",
      "execution_count": null,
      "metadata": {
        "id": "xXREsZfUKUGy"
      },
      "outputs": [],
      "source": [
        "# Import the DAG object\n",
        "from airflow import DAG\n",
        "\n",
        "# Define the default_args dictionary\n",
        "default_args = {\n",
        "  'owner': 'dsmith',\n",
        "  'start_date': datetime(2023, 1, 14),\n",
        "  'retries': 2\n",
        "}\n",
        "\n",
        "# Instantiate the DAG object\n",
        "with DAG('example_etl', default_args=default_args) as etl_dag:\n",
        "  pass"
      ]
    },
    {
      "cell_type": "markdown",
      "source": [
        "4. Working with DAGs and the Airflow shell\n",
        "\n",
        "While working with Airflow, sometimes it can be tricky to remember what DAGs are defined and what they do. You want to gain some further knowledge of the Airflow shell command so you'd like to see what options are available.\n",
        "\n",
        "Multiple DAGs are already defined for you. How many DAGs are present in the Airflow system from the command-line?\n",
        "\n",
        "repl:~$ airflow dags list\n",
        "dag_id       | filepath    | owner   | paused\n",
        "=============+=============+=========+=======\n",
        "example_dag  | dag1.py     | airflow | True\n",
        "update_state | test_dag.py | airflow | True\n",
        "\n",
        "5. Troubleshooting DAG creation\n",
        "\n",
        "Now that you've successfully worked with a couple workflows, you notice that sometimes there are issues making a workflow appear within Airflow. You'd like to be able to better troubleshoot the behavior of Airflow when there may be something wrong with the code.\n",
        "\n",
        "Two DAGs are defined for you and Airflow is setup. Note that any changes you make within the editor are automatically saved.\n",
        "\n",
        "\n",
        "\n",
        "\n"
      ],
      "metadata": {
        "id": "bymiKUeBQm5U"
      }
    },
    {
      "cell_type": "code",
      "source": [
        "from airflow import DAG\n",
        "\n",
        "default_args = {\n",
        "  'owner': 'jdoe',\n",
        "  'email': 'jdoe@datacamp.com'\n",
        "}\n",
        "with DAG( 'refresh_data',\n",
        "          default_args=default_args\n",
        "        ):\n",
        "    pass"
      ],
      "metadata": {
        "id": "NagMlguWQq2F"
      },
      "execution_count": null,
      "outputs": []
    },
    {
      "cell_type": "markdown",
      "source": [
        "6. Starting the Airflow webserver\n",
        "\n",
        "You've successfully created some DAGs within Airflow using the command-line tools, but notice that it can be a bit tricky to handle scheduling / troubleshooting / etc. After reading the documentation further, you realize that you'd like to access the Airflow web interface. For security reasons, you'd like to start the webserver on port 9090.\n",
        "\n",
        "Which airflow command would you use to start the webserver on port 9090?\n",
        "\n",
        "Airflow is installed and accessible from the command line. Remember to use the airflow -h command if needed. airflow <subcommand> -h will provide further detail. Note that there may already be a webserver running - you can ignore any error messages you see while searching for the correct command.\n",
        "\n",
        "* airflow webserver\n",
        "\n",
        "* airflow start webserver 9090\n",
        "\n",
        "* airflow webserver -9090\n",
        "\n",
        "* *airflow webserver -p 9090*\n",
        "\n",
        "7. Navigating the Airflow UI\n",
        "\n",
        "To gain some familiarity with the Airflow UI, you decide to explore the various pages. You'd like to know what has happened on your Airflow instance thus far.\n",
        "\n",
        "Which of the following events have not run on your Airflow instance?\n",
        "\n",
        "* cli_scheduler\n",
        "\n",
        "* cli_webserver\n",
        "\n",
        "* *cli_worker*\n",
        "\n",
        "8. Examining DAGs with the Airflow UI\n",
        "\n",
        "You've become familiar with the basics of an Airflow DAG and the basics of interacting with Airflow on the command-line. Your boss would like you to show others on your team how to examine any available DAGs. In this instance, she would like to know which operator is NOT in use with the DAG called update_state, as your team is trying to verify the components used in production workflows.\n",
        "\n",
        "Remember that the Airflow UI allows various methods to view the state of DAGs. The Tree View lists the tasks and any ordering between them in a tree structure, with the ability to compress / expand the nodes. The Graph View shows any tasks and their dependencies in a graph structure, along with the ability to access further details about task runs. The Code view provides full access to the Python code that makes up the DAG.\n",
        "\n",
        "Remember to select the operator NOT used in this DAG.\n",
        "\n",
        "\n",
        "* BashOperator\n",
        "\n",
        "* PythonOperator\n",
        "\n",
        "* *JdbcOperator*\n",
        "\n",
        "* SimpleHttpOperator"
      ],
      "metadata": {
        "id": "4qfoo_ZTAiOv"
      }
    },
    {
      "cell_type": "markdown",
      "source": [
        "# 2. Implementing Airflow DAGs"
      ],
      "metadata": {
        "id": "Z-89RAc8CneT"
      }
    },
    {
      "cell_type": "markdown",
      "source": [
        "1. Defining a BashOperator task\n",
        "\n",
        "The BashOperator allows you to specify any given Shell command or script and add it to an Airflow workflow. This can be a great start to implementing Airflow in your environment.\n",
        "\n",
        "As such, you've been running some scripts manually to clean data (using a script called cleanup.sh) prior to delivery to your colleagues in the Data Analytics group. As you get more of these tasks assigned, you've realized it's becoming difficult to keep up with running everything manually, much less dealing with errors or retries. You'd like to implement a simple script as an Airflow operator.\n",
        "\n",
        "The Airflow DAG analytics_dag is already defined for you and has the appropriate configurations in place."
      ],
      "metadata": {
        "id": "CxqUc4EjDxWn"
      }
    },
    {
      "cell_type": "code",
      "source": [
        "# Import the BashOperator\n",
        "from airflow.operators.bash import BashOperator\n",
        "\n",
        "with DAG(dag_id=\"test_dag\", default_args={\"start_date\": \"2024-01-01\"}) as analytics_dag:\n",
        "  # Define the BashOperator\n",
        "  cleanup = BashOperator(\n",
        "      task_id=\"cleanup_task\",\n",
        "      # Define the bash_command\n",
        "      bash_command=\"cleanup.sh\",\n",
        "  )\n"
      ],
      "metadata": {
        "id": "LcZQc79KD4Yn"
      },
      "execution_count": null,
      "outputs": []
    },
    {
      "cell_type": "markdown",
      "source": [
        "2. Multiple BashOperators\n",
        "\n",
        "Airflow DAGs can contain many operators, each performing their defined tasks.\n",
        "\n",
        "You've successfully implemented one of your scripts as an Airflow task and have decided to continue migrating your individual scripts to a full Airflow DAG. You now want to add more components to the workflow. In addition to the cleanup.sh used in the previous exercise you have two more scripts, consolidate_data.sh and push_data.sh. These further process your data and copy to its final location.\n",
        "\n",
        "The DAG analytics_dag is defined (meaning you do not need to add the with DAG(...) statement, and your cleanup task is still defined. The BashOperator is already imported."
      ],
      "metadata": {
        "id": "Bay8U_mdENqw"
      }
    },
    {
      "cell_type": "code",
      "source": [
        "# Define a second operator to run the `consolidate_data.sh` script\n",
        "consolidate = BashOperator(\n",
        "    task_id='consolidate_task',\n",
        "    bash_command=\"consolidate_data.sh\"\n",
        "    )\n",
        "\n",
        "# Define a final operator to execute the `push_data.sh` script\n",
        "push_data = BashOperator(\n",
        "    task_id=\"pushdata_task\",\n",
        "    bash_command=\"push_data.sh\"\n",
        "    )\n"
      ],
      "metadata": {
        "id": "eHcYG8wwESuJ"
      },
      "execution_count": null,
      "outputs": []
    },
    {
      "cell_type": "markdown",
      "source": [
        "3. Define order of BashOperators\n",
        "\n",
        "Now that you've learned about the bitshift operators, it's time to modify your workflow to include a pull step and to include the task ordering. You have three currently defined components, cleanup, consolidate, and push_data.\n",
        "\n",
        "The DAG analytics_dag is available as before and the BashOperator is already imported.\n",
        "\n",
        "Define a BashOperator called pull_sales with a bash command of wget https://salestracking/latestinfo?json.\n",
        "Set the pull_sales operator to run before the cleanup task.\n",
        "Configure consolidate to run next, using the downstream operator.\n",
        "Set push_data to run last using either bitshift operator.\n",
        "\n",
        "Define a BashOperator called pull_sales with a bash command of wget https://salestracking/latestinfo?json.\n",
        "\n",
        "Set the pull_sales operator to run before the cleanup task.\n",
        "\n",
        "Configure consolidate to run next, using the downstream operator.\n",
        "\n",
        "Set push_data to run last using either bitshift operator."
      ],
      "metadata": {
        "id": "USc3OtJqF4We"
      }
    },
    {
      "cell_type": "code",
      "source": [
        "# Define a new pull_sales task\n",
        "pull_sales = BashOperator(\n",
        "    task_id='pullsales_task',\n",
        "    bash_command='wget https://salestracking/latestinfo?json'\n",
        ")\n",
        "\n",
        "# Set pull_sales to run prior to cleanup\n",
        "pull_sales >> cleanup\n",
        "\n",
        "# Configure consolidate to run after cleanup\n",
        "consolidate << cleanup\n",
        "\n",
        "# Set push_data to run last\n",
        "consolidate >> push_data"
      ],
      "metadata": {
        "id": "vWdPz6UIxqG_"
      },
      "execution_count": null,
      "outputs": []
    },
    {
      "cell_type": "markdown",
      "source": [
        "4. Determining the order of tasks\n",
        "While looking through a colleague's workflow definition, you're trying to decipher exactly in which order the defined tasks run. The code in question shows the following:\n",
        "\n",
        "pull_data << initialize_process\n",
        "\n",
        "pull_data >> clean >> run_ml_pipeline\n",
        "\n",
        "generate_reports << run_ml_pipeline\n",
        "\n",
        "![image.png](data:image/png;base64,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)\n",
        "\n",
        "5. Troubleshooting DAG dependencies\n",
        "\n",
        "You've created a DAG with intended dependencies based on your workflow but for some reason Airflow won't load / execute the DAG. Try using the terminal to:\n",
        "\n",
        "Run the airflow dags command to see all subcommands available. Look for a subcommand to read errors and run it.\n",
        "Decipher the error message.\n",
        "Use cat workspace/dags/codependent.py to view the Python code.\n",
        "Determine which of the following lines should be removed from the Python code.\n",
        "\n",
        "repl:~$ cat workspace/dags/codependent.py\n",
        "\n",
        "from airflow import DAG\n",
        "from airflow.operators.bash import BashOperator\n",
        "from datetime import datetime\n",
        "\n",
        "default_args = {\n",
        "  'owner': 'dsmith',\n",
        "  'start_date': datetime(2023, 2, 12),\n",
        "  'retries': 1\n",
        "}\n",
        "\n",
        "with DAG('codependency', default_args=default_args) as codependency_dag:\n",
        "\n",
        "  task1 = BashOperator(task_id='first_task',\n",
        "                     bash_command='echo 1',\n",
        "                     dag=codependency_dag)\n",
        "\n",
        "  task2 = BashOperator(task_id='second_task',\n",
        "                     bash_command='echo 2',\n",
        "                     dag=codependency_dag)\n",
        "\n",
        "  task3 = BashOperator(task_id='third_task',\n",
        "                     bash_command='echo 3',\n",
        "                     dag=codependency_dag)\n",
        "\n",
        "task1 must run before task2 which must run beforetask3\n",
        "  task1 >> task2\n",
        "  task2 >> task3\n",
        "  task3 >> task1\n",
        "\n",
        "* task1 >> task2\n",
        "\n",
        "* task2 >> task3\n",
        "\n",
        "* *task3 >> task1*\n",
        "\n",
        "6. Using the PythonOperator\n",
        "\n",
        "You've implemented several Airflow tasks using the BashOperator but realize that a couple of specific tasks would be better implemented using Python. You'll implement a task to download and save a file to the system within Airflow.\n",
        "\n",
        "The requests library is imported for you, and the DAG process_sales_dag is already defined.\n",
        "\n",
        "Create a new task assigned to the variable pull_file_task, with the id pull_file.\n",
        "\n",
        "Add the pull_file(URL, savepath) function defined previously to the operator.\n",
        "\n",
        "Define the arguments needed for the task."
      ],
      "metadata": {
        "id": "NQG9wZGG4AdJ"
      }
    },
    {
      "cell_type": "code",
      "source": [
        "def pull_file(URL, savepath):\n",
        "    r = requests.get(URL)\n",
        "    with open(savepath, 'wb') as f:\n",
        "        f.write(r.content)\n",
        "    # Use the print method for logging\n",
        "    print(f\"File pulled from {URL} and saved to {savepath}\")\n",
        "\n",
        "from airflow.operators.python import PythonOperator\n",
        "\n",
        "# Create the task\n",
        "pull_file_task = PythonOperator(\n",
        "    task_id='pull_file',\n",
        "    # Add the callable\n",
        "    python_callable=pull_file,\n",
        "    # Define the arguments\n",
        "    op_kwargs={'URL':'http://dataserver/sales.json', 'savepath':'latestsales.json'}\n",
        ")"
      ],
      "metadata": {
        "id": "qHcCiY9xS9ET"
      },
      "execution_count": null,
      "outputs": []
    },
    {
      "cell_type": "markdown",
      "source": [
        "7. More PythonOperators\n",
        "\n",
        "To continue implementing your workflow, you need to add another step to parse and save the changes of the downloaded file. The DAG process_sales_dag is defined and has the pull_file task already added. In this case, the Python function is already defined for you, parse_file(inputfile, outputfile).\n",
        "\n",
        "Note that often when implementing Airflow tasks, you won't necessarily understand the individual steps given to you. As long as you understand how to wrap the steps within Airflow's structure, you'll be able to implement a desired workflow.\n",
        "\n",
        "Define the Python task to the variable parse_file_task with the id parse_file.\n",
        "\n",
        "Add the parse_file(inputfile, outputfile) to the Operator.\n",
        "\n",
        "Define the arguments to pass to the callable."
      ],
      "metadata": {
        "id": "QrhEMOGGUJG_"
      }
    },
    {
      "cell_type": "code",
      "source": [
        "# Add another Python task\n",
        "parse_file_task = PythonOperator(\n",
        "    task_id='parse_file',\n",
        "    # Set the function to call\n",
        "    python_callable=parse_file,\n",
        "    # Add the arguments\n",
        "    op_kwargs={'inputfile':'latestsales.json', 'outputfile':'parsedfile.json'},\n",
        ")"
      ],
      "metadata": {
        "id": "jNZNTkqvUTHr"
      },
      "execution_count": null,
      "outputs": []
    },
    {
      "cell_type": "markdown",
      "source": [
        "8. EmailOperator and dependencies\n",
        "\n",
        "Now that you've successfully defined the PythonOperators for your workflow, your manager would like to receive a copy of the parsed JSON file via email when the workflow completes. The previous tasks are still defined and the DAG process_sales_dag is configured. Please note that this task uses the older DAG definition method and is added for you.\n",
        "\n",
        "\n",
        "Import the class to send emails.\n",
        "\n",
        "Define the Operator and add the appropriate arguments (to, subject, files).\n",
        "\n",
        "Set the task order so the tasks run sequentially (Pull the file, parse the file, then email your manager)."
      ],
      "metadata": {
        "id": "uqv7XjMxU2QU"
      }
    },
    {
      "cell_type": "code",
      "source": [
        "# Import the Operator\n",
        "from airflow.operators.email import EmailOperator\n",
        "\n",
        "# Define the task\n",
        "email_manager_task = EmailOperator(\n",
        "    task_id='email_manager',\n",
        "    to='manager@datacamp.com',\n",
        "    subject='Latest sales JSON',\n",
        "    html_content='Attached is the latest sales JSON file as requested.',\n",
        "    files='parsedfile.json',\n",
        "    dag=process_sales_dag\n",
        ")\n",
        "\n",
        "# Set the order of tasks\n",
        "pull_file_task >> parse_file_task >> email_manager_task"
      ],
      "metadata": {
        "id": "upGulpp8U8zc"
      },
      "execution_count": null,
      "outputs": []
    },
    {
      "cell_type": "markdown",
      "source": [
        "9. Schedule a DAG via Python\n",
        "\n",
        "You've learned quite a bit about creating DAGs, but now you would like to schedule a specific DAG on a specific day of the week at a certain time. You'd like the code include this information in case a colleague needs to reinstall the DAG to a different server.\n",
        "\n",
        "The Airflow DAG object and the appropriate datetime methods have been imported for you.\n",
        "\n",
        "Set the start date of the DAG to November 1, 2023.\n",
        "\n",
        "Configure the retry_delay to 20 minutes. You will learn more about the timedelta object in Chapter 3. For now, you just need to know it expects an integer value.\n",
        "\n",
        "Use the cron syntax to configure a schedule of every Wednesday at 12:30pm."
      ],
      "metadata": {
        "id": "lkWG4lkuXOq9"
      }
    },
    {
      "cell_type": "code",
      "source": [
        "# Update the scheduling arguments as defined\n",
        "default_args = {\n",
        "  'owner': 'Engineering',\n",
        "  'start_date': datetime(2023, 11, 1),\n",
        "  'email': ['airflowresults@datacamp.com'],\n",
        "  'email_on_failure': False,\n",
        "  'email_on_retry': False,\n",
        "  'retries': 3,\n",
        "  'retry_delay': timedelta(minutes=20)\n",
        "}\n",
        "\n",
        "dag = DAG('update_dataflows', default_args=default_args, schedule_interval='30 12 * * 3')"
      ],
      "metadata": {
        "id": "s67mkWv1Xmjr"
      },
      "execution_count": null,
      "outputs": []
    },
    {
      "cell_type": "markdown",
      "source": [
        "10. Deciphering Airflow schedules\n",
        "\n",
        "Given the various options for Airflow's schedule_interval, you'd like to verify that you understand exactly how intervals relate to each other, whether it's a cron format, timedelta object, or a preset.\n",
        "\n",
        "Order the schedule intervals from least to greatest amount of time.\n",
        "\n",
        "![image.png](data:image/png;base64,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)"
      ],
      "metadata": {
        "id": "5-_GIqriXqHf"
      }
    },
    {
      "cell_type": "markdown",
      "source": [
        "11. Troubleshooting DAG runs\n",
        "\n",
        "You've scheduled a DAG called process_sales which is set to run on the first day of the month and email your manager a copy of the report generated in the workflow. The start_date for the DAG is set to February 15, 2023. Unfortunately it's now March 2nd and your manager did not receive the report and would like to know what happened.\n",
        "\n",
        "Use the information you've learned about Airflow scheduling to determine what the issue is.\n",
        "\n",
        "\n",
        "* *The `schedule_interval` has not yet passed since the `start_date`.*\n",
        "\n",
        "* The `email_manager_task` is not downstream of the other tasks.\n",
        "\n",
        "* The DAG run has an error.\n",
        "\n",
        "* The `op_kwargs` are incorrect for the `EmailOperator`."
      ],
      "metadata": {
        "id": "RgsdQlP5YA1u"
      }
    },
    {
      "cell_type": "markdown",
      "source": [
        "# 3. Maintaining and monitoring Airflow workflows\n"
      ],
      "metadata": {
        "id": "xCKXA188Y4u1"
      }
    },
    {
      "cell_type": "markdown",
      "source": [
        "\n",
        "1. Sensors vs operators\n",
        "\n",
        "As you've just learned about sensors, you want to verify you understand what they have in common with normal operators and where they differ.\n",
        "![image.png](data:image/png;base64,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)"
      ],
      "metadata": {
        "id": "WOuB02mO_2N-"
      }
    },
    {
      "cell_type": "markdown",
      "source": [
        "2. Sensory deprivation\n",
        "\n",
        "You've recently taken over for another Airflow developer and are trying to learn about the various workflows defined within the system. You come across a DAG that you can't seem to make run properly using any of the normal tools. Try exploring the DAG for any information about what it might be looking for before continuing.\n",
        "\n",
        "* *The DAG is waiting for the file salesdata_ready.csv to be present.*\n",
        "\n",
        "* The DAG expects a response from the SimpleHttpOperator before starting.\n",
        "\n",
        "* part1 needs a dependency added.\n",
        "\n",
        "3. Determining the executor\n",
        "\n",
        "While developing your DAGs in Airflow, you realize you're not certain the configuration of the system. Using the commands you've learned, determine which of the following statements is true.\n",
        "\n",
        "\n",
        "* This system can run 12 tasks at the same time.\n",
        "\n",
        "* *This system can run one task at a time.*\n",
        "\n",
        "* This system can run as many tasks as needed at a time.\n",
        "\n",
        "4. DAGs in the bag\n",
        "\n",
        "You've taken over managing an Airflow cluster that you did not setup and are trying to learn a bit more about the system. Which of the following is true?\n",
        "\n",
        "Instructions\n",
        "50XP\n",
        "\n",
        "* The DAG is scheduled for hourly processing.\n",
        "\n",
        "* The Airflow user does not have proper permissions.\n",
        "\n",
        "* *The `dags_folder` is set to `/home/repl/workspace/dags`.*\n",
        "\n",
        "5. Defining an SLA\n",
        "\n",
        "You've successfully implemented several Airflow workflows into production, but you don't currently have any method of determining if a workflow takes too long to run. After consulting with your manager and your team, you decide to implement an SLA at the DAG level on a test workflow.\n",
        "\n",
        "All appropriate Airflow libraries have been imported for you\n"
      ],
      "metadata": {
        "id": "sqmPQoEPad26"
      }
    },
    {
      "cell_type": "code",
      "source": [
        "# Import the timedelta object\n",
        "from datetime import timedelta\n",
        "\n",
        "# Create the dictionary entry\n",
        "default_args = {\n",
        "  'start_date': datetime(2024, 1, 20),\n",
        "  'sla': timedelta(minutes = 30)\n",
        "}\n",
        "\n",
        "# Add to the DAG\n",
        "test_dag = DAG('test_workflow', default_args=default_args , schedule_interval=None)"
      ],
      "metadata": {
        "id": "AWIZQiesYbtr"
      },
      "execution_count": null,
      "outputs": []
    },
    {
      "cell_type": "markdown",
      "source": [
        "6. Defining a task SLA\n",
        "\n",
        "After completing the SLA on the entire workflow, you realize you really only need the SLA timing on a specific task instead of the full workflow.\n",
        "\n",
        "The appropriate Airflow libraries are imported for you."
      ],
      "metadata": {
        "id": "pJkVkocqYzQ3"
      }
    },
    {
      "cell_type": "code",
      "source": [
        "# Import the timedelta object\n",
        "from datetime import timedelta\n",
        "\n",
        "test_dag = DAG('test_workflow', start_date=datetime(2024,1,20), schedule_interval=None)\n",
        "\n",
        "# Create the task with the SLA\n",
        "task1 = BashOperator(task_id='first_task',\n",
        "                     sla=timedelta(hours=3),\n",
        "                     bash_command='initialize_data.sh',\n",
        "                     dag=test_dag)"
      ],
      "metadata": {
        "id": "pKA6kqaPZCUU"
      },
      "execution_count": null,
      "outputs": []
    },
    {
      "cell_type": "markdown",
      "source": [
        "7. Generate and email a report\n",
        "\n",
        "Airflow provides the ability to automate almost any style of workflow. You would like to receive a report from Airflow when tasks complete without requiring constant monitoring of the UI or log files. You decide to use the email functionality within Airflow to provide this message.\n",
        "\n",
        "All the typical Airflow components have been imported for you, and a DAG is already defined as dag."
      ],
      "metadata": {
        "id": "7EzgeDjPZDKI"
      }
    },
    {
      "cell_type": "code",
      "source": [
        "# Define the email task\n",
        "email_report = EmailOperator(\n",
        "        task_id='email_report',\n",
        "        to='airflow@datacamp.com',\n",
        "        subject='Airflow Monthly Report',\n",
        "        html_content=\"\"\"Attached is your monthly workflow report - please refer to it for more detail\"\"\",\n",
        "        files=[\"monthly_report.pdf\"],\n",
        "        dag=report_dag\n",
        ")\n",
        "\n",
        "# Set the email task to run after the report is generated\n",
        "email_report << generate_report"
      ],
      "metadata": {
        "id": "bRSgpdn1ZZyE"
      },
      "execution_count": null,
      "outputs": []
    },
    {
      "cell_type": "markdown",
      "source": [
        "8. Adding status emails\n",
        "\n",
        "You've worked through most of the Airflow configuration for setting up your workflows, but you realize you're not getting any notifications when DAG runs complete or fail. You'd like to setup email alerting for the success and failure cases, but you want to send it to two addresses.\n",
        "\n",
        "Edit the execute_report_dag.py workflow.\n",
        "Add the emails airflowalerts@datacamp.com and airflowadmin@datacamp.com to the appropriate key in default_args.\n",
        "Set the failure email option to True.\n",
        "Configure the success email to send you messages as well.\n",
        "\n",
        "default_args={\n",
        "\n",
        "    'email': ['airflowalerts@datacamp.com',\n",
        "    'airflowadmin@datacamp.com'],\n",
        "    'email_on_failure': True,\n",
        "    'email_on_success': True\n",
        "}\n",
        "\n"
      ],
      "metadata": {
        "id": "5MnIp478aF3v"
      }
    },
    {
      "cell_type": "markdown",
      "source": [
        "# 4. Building production pipelines in Airflow"
      ],
      "metadata": {
        "id": "5wh9sAUlaWwI"
      }
    },
    {
      "cell_type": "markdown",
      "source": [
        "1. Creating a templated BashOperator\n",
        "\n",
        "You've successfully created a BashOperator that cleans a given data file by executing a script called cleandata.sh. This works, but unfortunately requires the script to be run only for the current day. Some of your data sources are occasionally behind by a couple of days and need to be run manually.\n",
        "\n",
        "You successfully modify the cleandata.sh script to take one argument - the date in YYYYMMDD format. Your testing works at the command-line, but you now need to implement this into your Airflow DAG. For now, use the term {{ ds_nodash }} in your template - you'll see exactly what this is means later on.\n",
        "\n",
        "\n",
        "Create a templated command to execute the cleandata.sh script with the current execution date given by Airflow. Assign this command to a variable called templated_command.\n",
        "\n",
        "Modify the BashOperator to use the templated command.\n"
      ],
      "metadata": {
        "id": "1-s3n2veafkm"
      }
    },
    {
      "cell_type": "code",
      "source": [
        "from airflow import DAG\n",
        "from airflow.operators.bash import BashOperator\n",
        "from datetime import datetime\n",
        "\n",
        "default_args = {\n",
        "  'start_date': datetime(2023, 4, 15),\n",
        "}\n",
        "\n",
        "cleandata_dag = DAG('cleandata',\n",
        "                    default_args=default_args,\n",
        "                    schedule_interval='@daily')\n",
        "\n",
        "# Create a templated command to execute\n",
        "# 'bash cleandata.sh datestring'\n",
        "templated_command = \"\"\" bash cleandata.sh {{ ds_nodash }} \"\"\"\n",
        "\n",
        "\n",
        "\n",
        "# Modify clean_task to use the templated command\n",
        "clean_task = BashOperator(task_id='cleandata_task',\n",
        "                          bash_command=templated_command,\n",
        "                          params={ 'ds_nodash': \"datestring\"},\n",
        "                          dag=cleandata_dag)\n"
      ],
      "metadata": {
        "id": "Yffl_xfEdDRJ"
      },
      "execution_count": null,
      "outputs": []
    },
    {
      "cell_type": "markdown",
      "source": [
        "2. Templates with multiple arguments\n",
        "\n",
        "You wish to build upon your previous DAG and modify the code to support two arguments - the date in YYYYMMDD format, and a file name passed to the cleandata.sh script.\n",
        "\n",
        "Ide Exercise Instruction\n",
        "100XP\n",
        "Modify the templated command to handle a second argument called filename.\n",
        "Change the first BashOperator to pass the filename salesdata.txt to the command.\n",
        "Add a new BashOperator called clean_task2 to use a second filename supportdata.txt.\n",
        "Set clean_task2 downstream of clean_task."
      ],
      "metadata": {
        "id": "1QKmU3wKdEIt"
      }
    },
    {
      "cell_type": "code",
      "source": [
        "from airflow import DAG\n",
        "from airflow.operators.bash import BashOperator\n",
        "from datetime import datetime\n",
        "\n",
        "default_args = {\n",
        "  'start_date': datetime(2023, 4, 15),\n",
        "}\n",
        "\n",
        "cleandata_dag = DAG('cleandata',\n",
        "                    default_args=default_args,\n",
        "                    schedule_interval='@daily')\n",
        "\n",
        "# Modify the templated command to handle a\n",
        "# second argument called filename.\n",
        "templated_command = \"\"\"\n",
        "  bash cleandata.sh {{ ds_nodash }} {{ params.filename }}\n",
        "\"\"\"\n",
        "\n",
        "# Modify clean_task to pass the new argument\n",
        "clean_task = BashOperator(task_id='cleandata_task',\n",
        "                          bash_command=templated_command,\n",
        "                          params={'filename': \"salesdata.txt\"},\n",
        "                          dag=cleandata_dag)\n",
        "\n",
        "# Create a new BashOperator clean_task2\n",
        "clean_task2 = BashOperator(task_id='cleandata_task2',\n",
        "                           bash_command=templated_command,\n",
        "                          params={'filename': \"supportdata.txt\"},\n",
        "                          dag=cleandata_dag)\n",
        "\n",
        "# Set the operator dependencies\n",
        "clean_task2 << clean_task\n"
      ],
      "metadata": {
        "id": "5_h_HI8Bdr3e"
      },
      "execution_count": null,
      "outputs": []
    },
    {
      "cell_type": "markdown",
      "source": [
        "3. Using lists with templates\n",
        "\n",
        "Once again, you decide to make some modifications to the design of your cleandata workflow. This time, you realize that you need to run the command cleandata.sh with the date argument and the file argument as before, except now you have a list of 30 files. You do not want to create 30 tasks, so your job is to modify the code to support running the argument for 30 or more files.\n",
        "\n",
        "The Python list of files is already created for you, simply called filelist."
      ],
      "metadata": {
        "id": "ndlzFEoUdsp1"
      }
    },
    {
      "cell_type": "code",
      "source": [
        "from airflow import DAG\n",
        "from airflow.operators.bash import BashOperator\n",
        "from datetime import datetime\n",
        "\n",
        "filelist = [f'file{x}.txt' for x in range(30)]\n",
        "\n",
        "default_args = {\n",
        "  'start_date': datetime(2020, 4, 15),\n",
        "}\n",
        "\n",
        "cleandata_dag = DAG('cleandata',\n",
        "                    default_args=default_args,\n",
        "                    schedule_interval='@daily')\n",
        "\n",
        "# Modify the template to handle multiple files in a\n",
        "# single run.\n",
        "templated_command = \"\"\"\n",
        "  <% for filename in params.filenames %>\n",
        "  bash cleandata.sh {{ ds_nodash }} {{ filename }};\n",
        "  <% endfor %>\n",
        "\"\"\"\n",
        "\n",
        "# Modify clean_task to use the templated command\n",
        "clean_task = BashOperator(task_id='cleandata_task',\n",
        "                          bash_command=templated_command,\n",
        "                          params={'filenames': filelist},\n",
        "                          dag=cleandata_dag)\n"
      ],
      "metadata": {
        "id": "a_4Neh5Fe1SE"
      },
      "execution_count": null,
      "outputs": []
    },
    {
      "cell_type": "markdown",
      "source": [
        "4. Understanding parameter options\n",
        "\n",
        "You've used a few different methods to add templates to your workflows. Considering the differences between options, why would you want to create individual tasks (ie, BashOperators) with specific parameters vs a list of files?\n",
        "\n",
        "For example, why would you choose\n",
        "\n",
        "t1 = BashOperator(task_id='task1', bash_command=templated_command, params={'filename': 'file1.txt'}, dag=dag)\n",
        "t2 = BashOperator(task_id='task2', bash_command=templated_command, params={'filename': 'file2.txt'}, dag=dag)\n",
        "t3 = BashOperator(task_id='task3', bash_command=templated_command, params={'filename': 'file3.txt'}, dag=dag)\n",
        "over using a loop form such as\n",
        "\n",
        "t1 = BashOperator(task_id='task1',\n",
        "                  bash_command=templated_command,\n",
        "                  params={'filenames': ['file1.txt', 'file2.txt', 'file3.txt']},\n",
        "                  dag=dag)\n",
        "\n",
        "Possible Answers\n",
        "Select one answer\n",
        "\n",
        "* Using a loop form is slower.\n",
        "\n",
        "* *Using specific tasks allows better monitoring of task state and possible parallel execution.*\n",
        "\n",
        "* The params object can only handle lists of a few items."
      ],
      "metadata": {
        "id": "gdXGjurKfD8X"
      }
    },
    {
      "cell_type": "markdown",
      "source": [
        "5. Sending templated emails\n",
        "\n",
        "While reading through the Airflow documentation, you realize that various operations can use templated fields to provide added flexibility. You come across the docs for the EmailOperator and see that the content can be set to a template. You want to make use of this functionality to provide more detailed information regarding the output of a DAG run.\n",
        "\n",
        "Ide Exercise Instruction\n",
        "\n",
        "Create a Python string that represents the email content you wish to send. Use the substitutions for the current date string (with dashes) and a variable called username.\n",
        "\n",
        "Create the EmailOperator task using the template string for the html_content.\n",
        "\n",
        "Set the subject field to a macro call using macros.uuid.uuid4(). This simply provides a string of a universally unique identifier as the subject field.\n",
        "\n",
        "Assign the params dictionary as appropriate with the username of testemailuser."
      ],
      "metadata": {
        "id": "JmqiipzUf5B5"
      }
    },
    {
      "cell_type": "code",
      "source": [
        "from airflow import DAG\n",
        "from airflow.operators.email import EmailOperator\n",
        "from datetime import datetime\n",
        "\n",
        "# Create the string representing the html email content\n",
        "html_email_str = \"\"\"\n",
        "Date: {{ ds }}\n",
        "Username: {{ params.username }}\n",
        "\"\"\"\n",
        "\n",
        "email_dag = DAG('template_email_test',\n",
        "                default_args={'start_date': datetime(2023, 4, 15)},\n",
        "                schedule_interval='@weekly')\n",
        "\n",
        "email_task = EmailOperator(task_id='email_task',\n",
        "                           to='testuser@datacamp.com',\n",
        "                           subject=\"{{ macros.uuid.uuid4() }}\",\n",
        "                           html_content=html_email_str,\n",
        "                           params={'username': 'testemailuser'},\n",
        "                           dag=email_dag)\n"
      ],
      "metadata": {
        "id": "7rHuDLTpgDQ-"
      },
      "execution_count": null,
      "outputs": []
    },
    {
      "cell_type": "markdown",
      "source": [
        "6. Define a BranchPythonOperator\n",
        "\n",
        "After learning about the power of conditional logic within Airflow, you wish to test out the BranchPythonOperator. You'd like to run a different code path if the current execution date represents a new year (ie, 2020 vs 2019).\n",
        "\n",
        "The DAG is defined for you, along with the tasks in question. Your current task is to implement the BranchPythonOperator.\n",
        "\n",
        "Instructions\n",
        "\n",
        "In the function year_check, configure the code to determine if the year of the current execution date is different than the previous execution date (ie, is the year different between the appropriate Airflow template variables.)\n",
        "\n",
        "Finish the BranchPythonOperator by adding the appropriate arguments.\n",
        "\n",
        "Set the dependencies on current_year_task and new_year_task."
      ],
      "metadata": {
        "id": "EBqUeuTmiNYm"
      }
    },
    {
      "cell_type": "code",
      "source": [
        "# Create a function to determine if years are different\n",
        "def year_check(**kwargs):\n",
        "    current_year = int(kwargs['ds_nodash'][0:4])\n",
        "    previous_year = int(kwargs['prev_ds_nodash'][0:4])\n",
        "    if current_year == previous_year:\n",
        "        return 'current_year_task'\n",
        "    else:\n",
        "        return 'new_year_task'\n",
        "\n",
        "# Define the BranchPythonOperator\n",
        "branch_task = BranchPythonOperator(task_id='branch_task', dag=branch_dag,\n",
        "                                   python_callable=year_check, provide_context=True)\n",
        "# Define the dependencies\n",
        "branch_task >> current_year_task\n",
        "branch_task >> new_year_task"
      ],
      "metadata": {
        "id": "c4hDmi81iUJ0"
      },
      "execution_count": null,
      "outputs": []
    },
    {
      "cell_type": "markdown",
      "source": [
        "7. Branch troubleshooting\n",
        "\n",
        "While working with a workflow defined by a colleague, you notice that a branching operator executes, but there's never any change in the DAG results. You realize that regardless of the state defined by the branching operator, all other tasks complete, even as some should be skipped.\n",
        "\n",
        "Use what you've learned to determine the most likely reason that the branching operator is ineffective.\n",
        "\n",
        "![image.png](data:image/png;base64,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)\n",
        "\n",
        "* The `branch_test` method does not return the correct value.\n",
        "\n",
        "* The DAG does not run often enough for the callable to work properly.\n",
        "\n",
        "* *The dependency is missing between the `branch_task` and `even_day_task` and `odd_day_task`.*"
      ],
      "metadata": {
        "id": "RCjmpXXlihLa"
      }
    },
    {
      "cell_type": "markdown",
      "source": [
        "#1. Creating a production pipeline\n",
        "\n"
      ],
      "metadata": {
        "id": "IjkA4ihBiu0g"
      }
    },
    {
      "cell_type": "markdown",
      "source": [
        "You've learned a lot about how Airflow works - now it's time to implement your workflow into a production pipeline consisting of many objects including sensors and operators. Your boss is interested in seeing this workflow become automated and able to provide SLA reporting as it provides some extra leverage for closing a deal the sales staff is working on. The sales prospect has indicated that once they see updates in an automated fashion, they're willing to sign-up for the indicated data service.\n",
        "\n",
        "From what you've learned about the process, you know that there is sales data that will be uploaded to the system. Once the data is uploaded, a new file should be created to kick off the full processing, but something isn't working correctly.\n",
        "\n",
        "Refer to the source code of the DAG to determine if anything extra needs to be added.\n",
        "\n",
        "Update the DAG in pipeline.py to import the needed operators.\n",
        "Run the sense_file task from the command line and look for any errors. Use the command airflow tasks test and the appropriate arguments to run the command. For the last argument, use a -1 instead of a specific date.\n",
        "Determine why the sense_file task does not complete and remedy this using the editor. Make sure to scroll through the output in the terminal window.\n",
        "Re-test the sense_file task and verify the problem is fixed."
      ],
      "metadata": {
        "id": "hnFWSdbc_8ZS"
      }
    },
    {
      "cell_type": "code",
      "source": [
        "repl:~/workspace/dags$ airflow tasks test etl_update sense_file -1\n",
        "[2024-04-14T19:05:56.463+0200] {dagbag.py:539} INFO - Filling up the DagBag from /home/repl/workspace/dags\n",
        "[2024-04-14T19:05:56.640+0200] {taskinstance.py:1157} INFO - Dependencies all met for dep_context=non-requeueable deps ti=<TaskInstance: etl_update.sense_file __airflow_temporary_run_2024-04-14T17:03:05.009412+00:00__ [None]>\n",
        "[2024-04-14T19:05:56.645+0200] {taskinstance.py:1157} INFO - Dependencies all met for dep_context=requeueable deps ti=<TaskInstance: etl_update.sense_file __airflow_temporary_run_2024-04-14T17:03:05.009412+00:00__ [None]>\n",
        "[2024-04-14T19:05:56.646+0200] {taskinstance.py:1359} INFO - Starting attempt 1 of 1\n",
        "[2024-04-14T19:05:56.646+0200] {taskinstance.py:1428} WARNING - cannot record queued_duration for task sense_file because previous state change time has not been saved\n",
        "[2024-04-14T19:05:56.646+0200] {taskinstance.py:1380} INFO - Executing <Task(FileSensor): sense_file> on 2024-04-01 00:00:00+00:00\n",
        "[2024-04-14T19:05:56.741+0200] {taskinstance.py:1660} INFO - Exporting env vars: AIRFLOW_CTX_DAG_OWNER='airflow' AIRFLOW_CTX_DAG_ID='etl_update' AIRFLOW_CTX_TASK_ID='sense_file' AIRFLOW_CTX_EXECUTION_DATE='2024-04-01T00:00:00+00:00' AIRFLOW_CTX_TRY_NUMBER='1' AIRFLOW_CTX_DAG_RUN_ID='__airflow_temporary_run_2024-04-14T17:03:05.009412+00:00__'\n",
        "[2024-04-14T19:05:56.746+0200] {base.py:73} INFO - Using connection ID 'fs_default' for task execution.\n",
        "[2024-04-14T19:05:56.747+0200] {filesystem.py:64} INFO - Poking for file /home/repl/workspace/startprocess.txt\n",
        "[2024-04-14T19:06:01.753+0200] {base.py:73} INFO - Using connection ID 'fs_default' for task execution.\n",
        "[2024-04-14T19:06:01.753+0200] {filesystem.py:64} INFO - Poking for file /home/repl/workspace/startprocess.txt\n",
        "[2024-04-14T19:06:06.757+0200] {base.py:73} INFO - Using connection ID 'fs_default' for task execution.\n",
        "[2024-04-14T19:06:06.757+0200] {filesystem.py:64} INFO - Poking for file /home/repl/workspace/startprocess.txt\n",
        "[2024-04-14T19:06:11.764+0200] {base.py:73} INFO - Using connection ID 'fs_default' for task execution.\n",
        "[2024-04-14T19:06:11.764+0200] {filesystem.py:64} INFO - Poking for file /home/repl/workspace/startprocess.txt\n",
        "[2024-04-14T19:06:11.764+0200] {taskinstance.py:1935} ERROR - Task failed with exception\n",
        "Traceback (most recent call last):\n",
        "  File \"/usr/local/lib/python3.9/dist-packages/airflow/sensors/base.py\", line 274, in execute\n",
        "    raise AirflowSensorTimeout(message)\n",
        "airflow.exceptions.AirflowSensorTimeout: Sensor has timed out; run duration of 15.02142000204185 seconds exceeds the specified timeout of 15.0.\n",
        "[2024-04-14T19:06:11.765+0200] {taskinstance.py:1398} INFO - Immediate failure requested. Marking task as FAILED. dag_id=etl_update, task_id=sense_file, execution_date=20240401T000000, start_date=, end_date=20240414T170611\n",
        "Traceback (most recent call last):\n",
        "  File \"/usr/local/bin/airflow\", line 8, in <module>\n",
        "    sys.exit(main())\n",
        "  File \"/usr/local/lib/python3.9/dist-packages/airflow/__main__.py\", line 59, in main\n",
        "    args.func(args)\n",
        "  File \"/usr/local/lib/python3.9/dist-packages/airflow/cli/cli_config.py\", line 49, in command\n",
        "    return func(*args, **kwargs)\n",
        "  File \"/usr/local/lib/python3.9/dist-packages/airflow/utils/cli.py\", line 113, in wrapper\n",
        "    return f(*args, **kwargs)\n",
        "  File \"/usr/local/lib/python3.9/dist-packages/airflow/cli/commands/task_command.py\", line 620, in task_test\n",
        "    ti.run(ignore_task_deps=True, ignore_ti_state=True, test_mode=True)\n",
        "  File \"/usr/local/lib/python3.9/dist-packages/airflow/utils/session.py\", line 77, in wrapper\n",
        "    return func(*args, session=session, **kwargs)\n",
        "  File \"/usr/local/lib/python3.9/dist-packages/airflow/models/taskinstance.py\", line 1832, in run\n",
        "    self._run_raw_task(\n",
        "  File \"/usr/local/lib/python3.9/dist-packages/airflow/utils/session.py\", line 74, in wrapper\n",
        "    return func(*args, **kwargs)\n",
        "  File \"/usr/local/lib/python3.9/dist-packages/airflow/models/taskinstance.py\", line 1516, in _run_raw_task\n",
        "    self._execute_task_with_callbacks(context, test_mode, session=session)\n",
        "  File \"/usr/local/lib/python3.9/dist-packages/airflow/models/taskinstance.py\", line 1679, in _execute_task_with_callbacks\n",
        "    result = self._execute_task(context, task_orig)\n",
        "  File \"/usr/local/lib/python3.9/dist-packages/airflow/models/taskinstance.py\", line 1742, in _execute_task\n",
        "    result = execute_callable(context=context, **execute_callable_kwargs)\n",
        "  File \"/usr/local/lib/python3.9/dist-packages/airflow/sensors/base.py\", line 274, in execute\n",
        "    raise AirflowSensorTimeout(message)\n",
        "airflow.exceptions.AirflowSensorTimeout: Sensor has timed out; run duration of 15.02142000204185 seconds exceeds the specified timeout of 15.0.\n",
        "repl:~/workspace/dags$ touch /home/repl/workspace/startprocess.txt\n",
        "repl:~/workspace/dags$ airflow tasks test etl_update sense_file -1\n",
        "[2024-04-14T19:06:45.099+0200] {dagbag.py:539} INFO - Filling up the DagBag from /home/repl/workspace/dags\n",
        "[2024-04-14T19:06:45.279+0200] {taskinstance.py:1157} INFO - Dependencies all met for dep_context=non-requeueable deps ti=<TaskInstance: etl_update.sense_file __airflow_temporary_run_2024-04-14T17:03:05.009412+00:00__ [None]>\n",
        "[2024-04-14T19:06:45.284+0200] {taskinstance.py:1157} INFO - Dependencies all met for dep_context=requeueable deps ti=<TaskInstance: etl_update.sense_file __airflow_temporary_run_2024-04-14T17:03:05.009412+00:00__ [None]>\n",
        "[2024-04-14T19:06:45.284+0200] {taskinstance.py:1359} INFO - Starting attempt 1 of 1\n",
        "[2024-04-14T19:06:45.284+0200] {taskinstance.py:1428} WARNING - cannot record queued_duration for task sense_file because previous state change time has not been saved\n",
        "[2024-04-14T19:06:45.285+0200] {taskinstance.py:1380} INFO - Executing <Task(FileSensor): sense_file> on 2024-04-01 00:00:00+00:00\n",
        "[2024-04-14T19:06:45.374+0200] {taskinstance.py:1660} INFO - Exporting env vars: AIRFLOW_CTX_DAG_OWNER='airflow' AIRFLOW_CTX_DAG_ID='etl_update' AIRFLOW_CTX_TASK_ID='sense_file' AIRFLOW_CTX_EXECUTION_DATE='2024-04-01T00:00:00+00:00' AIRFLOW_CTX_TRY_NUMBER='1' AIRFLOW_CTX_DAG_RUN_ID='__airflow_temporary_run_2024-04-14T17:03:05.009412+00:00__'\n",
        "[2024-04-14T19:06:45.378+0200] {base.py:73} INFO - Using connection ID 'fs_default' for task execution.\n",
        "[2024-04-14T19:06:45.379+0200] {filesystem.py:64} INFO - Poking for file /home/repl/workspace/startprocess.txt\n",
        "[2024-04-14T19:06:45.379+0200] {filesystem.py:69} INFO - Found File /home/repl/workspace/startprocess.txt last modified: 20240414190628\n",
        "[2024-04-14T19:06:45.379+0200] {base.py:287} INFO - Success criteria met. Exiting.\n",
        "[2024-04-14T19:06:45.379+0200] {taskinstance.py:1398} INFO - Marking task as SUCCESS. dag_id=etl_update, task_id=sense_file, execution_date=20240401T000000, start_date=, end_date=20240414T170645\n",
        "repl:~/workspace/dags$"
      ],
      "metadata": {
        "id": "cA2C6-A9lXu1"
      },
      "execution_count": null,
      "outputs": []
    },
    {
      "cell_type": "markdown",
      "source": [
        "# 2. Creating a production pipeline"
      ],
      "metadata": {
        "id": "UGwfO6o5mhid"
      }
    },
    {
      "cell_type": "markdown",
      "source": [
        "Continuing on your last workflow, you'd like to add some additional functionality, specifically adding some SLAs to the code and modifying the sensor components.\n",
        "\n",
        "Refer to the source code of the DAG to determine if anything extra needs to be added. The default_args dictionary has been defined for you, though it may require further modification.\n",
        "\n",
        "\n",
        "Add an SLA of 90 minutes to the DAG.\n",
        "\n",
        "Update the FileSensor object to check for files every 45 seconds.\n",
        "\n",
        "Modify the python_task to send Airflow variables to the callable. Note that the callable is configured to accept the variables using the provide_context argument."
      ],
      "metadata": {
        "id": "27_OkMWfAA4c"
      }
    },
    {
      "cell_type": "code",
      "source": [
        "from airflow import DAG\n",
        "from airflow.sensors.filesystem import FileSensor\n",
        "from airflow.operators.bash import BashOperator\n",
        "from airflow.operators.python import PythonOperator\n",
        "from dags.process import process_data\n",
        "from datetime import timedelta, datetime\n",
        "\n",
        "# Update the default arguments and apply them to the DAG\n",
        "default_args = {\n",
        "  'start_date': datetime(2023,1,1),\n",
        "  'sla': timedelta(minutes= 90)\n",
        "}\n",
        "\n",
        "dag = DAG(dag_id='etl_update', default_args=default_args)\n",
        "\n",
        "sensor = FileSensor(task_id='sense_file',\n",
        "                    filepath='/home/repl/workspace/startprocess.txt',\n",
        "                    poke_interval= 45,\n",
        "                    dag=dag)\n",
        "\n",
        "bash_task = BashOperator(task_id='cleanup_tempfiles',\n",
        "                         bash_command='rm -f /home/repl/*.tmp',\n",
        "                         dag=dag)\n",
        "\n",
        "python_task = PythonOperator(task_id='run_processing',\n",
        "                             python_callable=process_data,\n",
        "                             provide_context= True,\n",
        "                             dag=dag)\n",
        "\n",
        "sensor >> bash_task >> python_task\n"
      ],
      "metadata": {
        "id": "ajB9G34CmsCy"
      },
      "execution_count": null,
      "outputs": []
    },
    {
      "cell_type": "markdown",
      "source": [
        "## Adding the final changes to your pipeline\n",
        "\n",
        "To finish up your workflow, your manager asks that you add a conditional logic check to send a sales report via email, only if the day is a weekday. Otherwise, no email should be sent. In addition, the email task should be templated to include the date and a project name in the content.\n",
        "\n",
        "The branch callable is already defined for you.\n",
        "\n",
        "\n",
        "Import the necessary operators.\n",
        "Configure the EmailOperator to provide the specific data to the callable.\n",
        "Complete the branch callable as necessary to point to the email_report_task or no_email_task.\n",
        "Configure the branch operator to properly check for the condition."
      ],
      "metadata": {
        "id": "Q68DtqxlnvzG"
      }
    },
    {
      "cell_type": "code",
      "source": [
        "from airflow import DAG\n",
        "from airflow.sensors.filesystem import FileSensor\n",
        "from airflow.operators.bash import BashOperator\n",
        "from airflow.operators.python import PythonOperator\n",
        "from airflow.operators.python import BranchPythonOperator\n",
        "from airflow.operators.empty import EmptyOperator\n",
        "from airflow.operators.email import EmailOperator\n",
        "from dags.process import process_data\n",
        "from datetime import datetime, timedelta\n",
        "\n",
        "# Update the default arguments and apply them to the DAG.\n",
        "\n",
        "default_args = {\n",
        "  'start_date': datetime(2023,1,1),\n",
        "  'sla': timedelta(minutes=90)\n",
        "}\n",
        "\n",
        "dag = DAG(dag_id='etl_update', default_args=default_args)\n",
        "\n",
        "sensor = FileSensor(task_id='sense_file',\n",
        "                    filepath='/home/repl/workspace/startprocess.txt',\n",
        "                    poke_interval=45,\n",
        "                    dag=dag)\n",
        "\n",
        "bash_task = BashOperator(task_id='cleanup_tempfiles',\n",
        "                         bash_command='rm -f /home/repl/*.tmp',\n",
        "                         dag=dag)\n",
        "\n",
        "python_task = PythonOperator(task_id='run_processing',\n",
        "                             python_callable=process_data,\n",
        "                             provide_context=True,\n",
        "                             dag=dag)\n",
        "\n",
        "\n",
        "email_subject=\"\"\"\n",
        "  Email report for {{ params.department }} on {{ ds_nodash }}\n",
        "\"\"\"\n",
        "\n",
        "\n",
        "email_report_task = EmailOperator(task_id='email_report_task',\n",
        "                                  to='sales@mycompany.com',\n",
        "                                  subject=email_subject,\n",
        "                                  html_content='',\n",
        "                                  params={'department': 'Data subscription services'},\n",
        "                                  dag=dag)\n",
        "\n",
        "\n",
        "no_email_task = EmptyOperator(task_id='no_email_task', dag=dag)\n",
        "\n",
        "\n",
        "def check_weekend(**kwargs):\n",
        "    dt = datetime.strptime(kwargs['execution_date'],\"%Y-%m-%d\")\n",
        "    # If dt.weekday() is 0-4, it's Monday - Friday. If 5 or 6, it's Sat / Sun.\n",
        "    if (dt.weekday() < 5):\n",
        "        return 'email_report_task'\n",
        "    else:\n",
        "        return 'no_email_task'\n",
        "\n",
        "\n",
        "branch_task = BranchPythonOperator(task_id='check_if_weekend',\n",
        "                                   provide_context=True,\n",
        "                                   python_callable=check_weekend,\n",
        "                                   dag=dag)\n",
        "\n",
        "\n",
        "sensor >> bash_task >> python_task\n",
        "\n",
        "python_task >> branch_task >> [email_report_task, no_email_task]\n"
      ],
      "metadata": {
        "id": "l_zNjbhsn5zb"
      },
      "execution_count": null,
      "outputs": []
    }
  ]
}